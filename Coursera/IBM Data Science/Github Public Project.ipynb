{
 "cells": [
  {
   "cell_type": "markdown",
   "id": "0993e6ad",
   "metadata": {},
   "source": [
    "# Exercise 2 - Title of the Notebook  \n",
    "# Data Science Tools and Ecosystem"
   ]
  },
  {
   "cell_type": "markdown",
   "id": "54c463b1",
   "metadata": {},
   "source": [
    "# Exercise 3 - Introduction  \n",
    "In this notebook, we will summarize some of the popular tools, languages, and libraries used by data scientists.  \n",
    "We will also practice simple arithmetic operations using Python.\n"
   ]
  },
  {
   "cell_type": "markdown",
   "id": "fc2d9541",
   "metadata": {},
   "source": [
    "# Exercise 4 - Data Science Languages  \n",
    "Some of the popular languages that Data Scientists use are:  \n",
    "- Python  \n",
    "- R  \n",
    "- SQL  \n",
    "- Julia  \n",
    "- Scala"
   ]
  },
  {
   "cell_type": "markdown",
   "id": "2d8dacc1",
   "metadata": {},
   "source": [
    "\n",
    "# Exercise 5 - Data Science Libraries  \n",
    "Some of the commonly used libraries used by Data Scientists include:  \n",
    "- Pandas  \n",
    "- NumPy  \n",
    "- Matplotlib  \n",
    "- Scikit-learn  \n",
    "- TensorFlow  \n",
    "- Keras\n"
   ]
  },
  {
   "cell_type": "markdown",
   "id": "f370bdd7",
   "metadata": {},
   "source": [
    "# Exercise 6 - Data Science Tools  \n",
    "| Tool         | Description                           |  \n",
    "|--------------|---------------------------------------|  \n",
    "| Jupyter      | Interactive notebooks for coding      |  \n",
    "| RStudio      | IDE for R programming                 |  \n",
    "| VS Code      | Code editor with data science support |  \n",
    "| Apache Spark | Big data processing framework         |  \n",
    "| Tableau      | Data visualization tool               |\n"
   ]
  },
  {
   "cell_type": "markdown",
   "id": "0a078ebf",
   "metadata": {},
   "source": [
    "# Exercise 7 - Introducing Arithmetic Expression Examples  \n",
    "Below are some examples of evaluating arithmetic expressions in Python.\n"
   ]
  },
  {
   "cell_type": "markdown",
   "id": "9afc5cbd",
   "metadata": {},
   "source": [
    "# Exercise 8 - Multiply and add numbers\n",
    "## This expression multiplies 3 by 4 and then adds 5\n",
    "result = (3 * 4) + 5 <br>\n",
    "result <br>\n"
   ]
  },
  {
   "cell_type": "markdown",
   "id": "5f08278d",
   "metadata": {},
   "source": [
    "# Exercise 9 - Convert minutes to hours\n",
    "# This code converts 200 minutes into hours\n",
    "minutes = 200 <br>\n",
    "hours = minutes / 60 <br>\n",
    "hours <br>\n"
   ]
  },
  {
   "cell_type": "markdown",
   "id": "43b0e9ee",
   "metadata": {},
   "source": [
    "# Exercise 10 - Objectives  \n",
    "Objectives of this notebook:  \n",
    "- List popular languages for Data Science  \n",
    "- Identify commonly used libraries in Data Science  \n",
    "- Introduce Data Science tools  \n",
    "- Perform basic arithmetic expressions using Python  \n",
    "- Convert units (minutes to hours) in Python\n"
   ]
  },
  {
   "cell_type": "markdown",
   "id": "5e4c3ccb",
   "metadata": {},
   "source": [
    "# Exercise 11 - Author’s Name  \n",
    "**Author:** Dimitar\n"
   ]
  },
  {
   "cell_type": "markdown",
   "id": "d277da88",
   "metadata": {},
   "source": []
  }
 ],
 "metadata": {
  "language_info": {
   "name": "python"
  }
 },
 "nbformat": 4,
 "nbformat_minor": 5
}
